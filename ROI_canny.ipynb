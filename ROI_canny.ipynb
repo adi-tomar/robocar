{
 "cells": [
  {
   "cell_type": "code",
   "execution_count": 1,
   "id": "bdd8b2b4",
   "metadata": {},
   "outputs": [],
   "source": [
    "import cv2\n",
    "from matplotlib import pyplot as plt"
   ]
  },
  {
   "cell_type": "code",
   "execution_count": null,
   "id": "2f844d62",
   "metadata": {},
   "outputs": [],
   "source": [
    "#Simple ROI\n",
    "import cv2\n",
    "\n",
    "im = cv2.imread(\"test.jpeg\")\n",
    "\n",
    "roi = cv2.selectROI(im)\n",
    "\n",
    "print(roi)\n",
    "\n",
    "im_cropped = im[int(roi[1]):int(roi[1]+roi[3]),\n",
    "                int(roi[0]):int(roi[0]+roi[2])]\n",
    "\n",
    "cv2.imshow(\"Cropped Image\", im_cropped)\n",
    "cv2.waitKey(0)"
   ]
  },
  {
   "cell_type": "code",
   "execution_count": null,
   "id": "e3085c58",
   "metadata": {},
   "outputs": [],
   "source": [
    "#Live Video canny filtering\n",
    "import cv2\n",
    "cv2.namedWindow('window')\n",
    "def low(x):\n",
    "    print('low:',x)\n",
    "def high(x):\n",
    "    print('high:',x)\n",
    "def nothing(x):\n",
    "    pass\n",
    "\n",
    "cv2.createTrackbar('low','window',0,255,nothing)\n",
    "cv2.createTrackbar('high','window',0,255,nothing)\n",
    "cv2.createTrackbar('kernel','window',1,10,nothing)\n",
    "# img = cv2.imread('Aditya_profile.jpg')\n",
    "capture = cv2.VideoCapture(0)\n",
    "# gray = cv2.cvtColor(img, cv2.COLOR_BGR2GRAY)\n",
    "while True:\n",
    "    _, img = capture.read()\n",
    "    kernel = cv2.getTrackbarPos('kernel','window')\n",
    "    img = cv2.blur(img,(kernel,kernel))\n",
    "    gray = cv2.cvtColor(img, cv2.COLOR_BGR2GRAY)\n",
    "    x = cv2.getTrackbarPos('low','window')\n",
    "    y = cv2.getTrackbarPos('high','window')\n",
    "    edge = cv2.Canny(gray, x, y)\n",
    "    cv2.imshow('window',edge)\n",
    "    if cv2.waitKey(1) == 27:\n",
    "            cv2.destroyAllWindows()\n",
    "            break"
   ]
  },
  {
   "cell_type": "code",
   "execution_count": null,
   "id": "b41b2075",
   "metadata": {},
   "outputs": [],
   "source": [
    "# Apply Canny Filter to ROI\n",
    "import cv2\n",
    "from matplotlib import pyplot as plt\n",
    "cv2.namedWindow('window')\n",
    "def nothing(x):\n",
    "    pass\n",
    "def sketch(image):\n",
    "    kernel = cv2.getTrackbarPos('kernel','window')\n",
    "    img = cv2.blur(image,(3,3))\n",
    "    gray = cv2.cvtColor(img, cv2.COLOR_BGR2GRAY)\n",
    "    x = cv2.getTrackbarPos('low','window')\n",
    "    y = cv2.getTrackbarPos('high','window')\n",
    "    edge = cv2.Canny(gray, x, y)\n",
    "    return edge\n",
    "\n",
    "cam_capture = cv2.VideoCapture(0)\n",
    "cv2.destroyAllWindows()\n",
    "\n",
    "_, frame = cam_capture.read()\n",
    "r = cv2.selectROI(frame)\n",
    "\n",
    "\n",
    "while True:\n",
    "    _, frame = cam_capture.read()\n",
    "\n",
    "    #Rectangle marker\n",
    "    \n",
    "    rect_img = frame[int(r[1]):int(r[1]+r[3]), int(r[0]):int(r[0]+r[2])]\n",
    "    sketcher_rect = rect_img\n",
    "    sketcher_rect = sketch(sketcher_rect)\n",
    "    #Conversion for 3 channels to put back on original image (streaming)\n",
    "    sketcher_rect_rgb = cv2.cvtColor(sketcher_rect, cv2.COLOR_GRAY2RGB)\n",
    "\n",
    "    #Replacing the sketched image on Region of Interest\n",
    "    frame[int(r[1]):int(r[1]+r[3]), int(r[0]):int(r[0]+r[2])] = sketcher_rect_rgb\n",
    "    cv2.imshow(\"Sketcher ROI\", frame)\n",
    "    \n",
    "    k = cv2.waitKey(1)\n",
    "    if k == 113:\n",
    "        break\n",
    "    elif k == 116:\n",
    "        print('t')\n",
    "        _, frame = cam_capture.read()\n",
    "        cv2.imshow(\"Sketcher ROI\", frame)\n",
    "        r = cv2.selectROI(\"Sketcher ROI\",frame)\n",
    "    \n",
    "    elif k == -1:\n",
    "        pass\n",
    "    else:\n",
    "        print(k)\n",
    "\n",
    "\n",
    "cv2.destroyAllWindows()"
   ]
  },
  {
   "cell_type": "code",
   "execution_count": 1,
   "id": "25e6152d",
   "metadata": {},
   "outputs": [
    {
     "ename": "NameError",
     "evalue": "name 'p1' is not defined",
     "output_type": "error",
     "traceback": [
      "\u001b[0;31m---------------------------------------------------------------------------\u001b[0m",
      "\u001b[0;31mNameError\u001b[0m                                 Traceback (most recent call last)",
      "Input \u001b[0;32mIn [1]\u001b[0m, in \u001b[0;36m<cell line: 1>\u001b[0;34m()\u001b[0m\n\u001b[0;32m----> 1\u001b[0m (\u001b[43mp1\u001b[49m,p2)\n",
      "\u001b[0;31mNameError\u001b[0m: name 'p1' is not defined"
     ]
    }
   ],
   "source": [
    "(p1,p2)"
   ]
  },
  {
   "cell_type": "code",
   "execution_count": 1,
   "id": "5746810f",
   "metadata": {},
   "outputs": [
    {
     "ename": "error",
     "evalue": "OpenCV(4.5.5) /Users/runner/work/opencv-python/opencv-python/opencv/modules/highgui/src/window.cpp:1000: error: (-215:Assertion failed) size.width>0 && size.height>0 in function 'imshow'\n",
     "output_type": "error",
     "traceback": [
      "\u001b[0;31m---------------------------------------------------------------------------\u001b[0m",
      "\u001b[0;31merror\u001b[0m                                     Traceback (most recent call last)",
      "Input \u001b[0;32mIn [1]\u001b[0m, in \u001b[0;36m<cell line: 33>\u001b[0;34m()\u001b[0m\n\u001b[1;32m     38\u001b[0m     cv2\u001b[38;5;241m.\u001b[39mrectangle(frame, p1, p2, (\u001b[38;5;241m255\u001b[39m, \u001b[38;5;241m0\u001b[39m, \u001b[38;5;241m0\u001b[39m), \u001b[38;5;241m5\u001b[39m)\n\u001b[1;32m     39\u001b[0m \u001b[38;5;66;03m# Show image\u001b[39;00m\n\u001b[0;32m---> 40\u001b[0m \u001b[43mcv2\u001b[49m\u001b[38;5;241;43m.\u001b[39;49m\u001b[43mimshow\u001b[49m\u001b[43m(\u001b[49m\u001b[38;5;124;43m'\u001b[39;49m\u001b[38;5;124;43mFrame\u001b[39;49m\u001b[38;5;124;43m'\u001b[39;49m\u001b[43m,\u001b[49m\u001b[43m \u001b[49m\u001b[43mframe\u001b[49m\u001b[43m)\u001b[49m\n\u001b[1;32m     41\u001b[0m \u001b[38;5;66;03m# Let OpenCV manage window events\u001b[39;00m\n\u001b[1;32m     42\u001b[0m key \u001b[38;5;241m=\u001b[39m cv2\u001b[38;5;241m.\u001b[39mwaitKey(\u001b[38;5;241m50\u001b[39m)\n",
      "\u001b[0;31merror\u001b[0m: OpenCV(4.5.5) /Users/runner/work/opencv-python/opencv-python/opencv/modules/highgui/src/window.cpp:1000: error: (-215:Assertion failed) size.width>0 && size.height>0 in function 'imshow'\n"
     ]
    }
   ],
   "source": [
    "#dynamic ROI by clicking two points in image\n",
    "import cv2, sys\n",
    "\n",
    "cap = cv2.VideoCapture(0)\n",
    "cv2.namedWindow('Frame', cv2.WINDOW_NORMAL)\n",
    "\n",
    "# Our ROI, defined by two points\n",
    "p1, p2 = None, None\n",
    "state = 0\n",
    "\n",
    "# Called every time a mouse event happen\n",
    "def on_mouse(event, x, y, flags, userdata):\n",
    "    global state, p1, p2\n",
    "    \n",
    "    # Left click\n",
    "    if event == cv2.EVENT_LBUTTONUP:\n",
    "        # Select first point\n",
    "        if state == 0:\n",
    "            p1 = (x,y)\n",
    "            state += 1\n",
    "        # Select second point\n",
    "        elif state == 1:\n",
    "            p2 = (x,y)\n",
    "            state += 1\n",
    "    # Right click (erase current ROI)\n",
    "    if event == cv2.EVENT_RBUTTONUP:\n",
    "        p1, p2 = None, None\n",
    "        state = 0\n",
    "\n",
    "# Register the mouse callback\n",
    "cv2.setMouseCallback('Frame', on_mouse)\n",
    "\n",
    "while cap.isOpened():\n",
    "    val, frame = cap.read()\n",
    "    \n",
    "    # If a ROI is selected, draw it\n",
    "    if state > 1:\n",
    "        cv2.rectangle(frame, p1, p2, (255, 0, 0), 5)\n",
    "    # Show image\n",
    "    cv2.imshow('Frame', frame)\n",
    "    # Let OpenCV manage window events\n",
    "    key = cv2.waitKey(50)\n",
    "    # If ESCAPE key pressed, stop\n",
    "    if key == 27:\n",
    "        cap.release()\n",
    "        cv2.destroyAllWindows()"
   ]
  },
  {
   "cell_type": "code",
   "execution_count": 4,
   "id": "467534ad",
   "metadata": {},
   "outputs": [
    {
     "data": {
      "text/plain": [
       "((132, 104), (1791, 975))"
      ]
     },
     "execution_count": 4,
     "metadata": {},
     "output_type": "execute_result"
    }
   ],
   "source": [
    "p1,p2"
   ]
  },
  {
   "cell_type": "code",
   "execution_count": 1,
   "id": "c776ecd9",
   "metadata": {},
   "outputs": [],
   "source": [
    "class VESC:\n",
    "    ''' \n",
    "    VESC Motor controler using pyvesc\n",
    "    This is used for most electric scateboards.\n",
    "    \n",
    "    inputs: serial_port---- port used communicate with vesc. for linux should be something like /dev/ttyACM1\n",
    "    has_sensor=False------- default value from pyvesc\n",
    "    start_heartbeat=True----default value from pyvesc (I believe this sets up a heartbeat and kills speed if lost)\n",
    "    baudrate=115200--------- baudrate used for communication with VESC\n",
    "    timeout=0.05-------------time it will try before giving up on establishing connection\n",
    "    \n",
    "    percent=.2--------------max percentage of the dutycycle that the motor will be set to\n",
    "    outputs: none\n",
    "    \n",
    "    uses the pyvesc library to open communication with the VESC and sets the servo to the angle (0-1) and the duty_cycle(speed of the car) to the throttle (mapped so that percentage will be max/min speed)\n",
    "    \n",
    "    Note that this depends on pyvesc, but using pip install pyvesc will create a pyvesc file that\n",
    "    can only set the speed, but not set the servo angle. \n",
    "    \n",
    "    Instead please use:\n",
    "    pip install git+https://github.com/LiamBindle/PyVESC.git@master\n",
    "    to install the pyvesc library\n",
    "    '''\n",
    "    def __init__(self, serial_port, percent=.2, has_sensor=False, start_heartbeat=True, baudrate=115200, timeout=0.05, steering_scale = 1.0, steering_offset = 0.0 ):\n",
    "        \n",
    "        try:\n",
    "            import pyvesc\n",
    "        except Exception as err:\n",
    "            print(\"\\n\\n\\n\\n\", err, \"\\n\")\n",
    "            print(\"please use the following command to import pyvesc so that you can also set\")\n",
    "            print(\"the servo position:\")\n",
    "            print(\"pip install git+https://github.com/LiamBindle/PyVESC.git@master\")\n",
    "            print(\"\\n\\n\\n\")\n",
    "            time.sleep(1)\n",
    "            raise\n",
    "        \n",
    "        assert percent <= 1 and percent >= -1,'\\n\\nOnly percentages are allowed for MAX_VESC_SPEED (we recommend a value of about .2) (negative values flip direction of motor)'\n",
    "        self.steering_scale = steering_scale\n",
    "        self.steering_offset = steering_offset\n",
    "        self.percent = percent\n",
    "        \n",
    "        try:\n",
    "            self.v = pyvesc.VESC(serial_port, has_sensor, start_heartbeat, baudrate, timeout)\n",
    "        except Exception as err:\n",
    "            print(\"\\n\\n\\n\\n\", err)\n",
    "            print(\"\\n\\nto fix permission denied errors, try running the following command:\")\n",
    "            print(\"sudo chmod a+rw {}\".format(serial_port), \"\\n\\n\\n\\n\")\n",
    "            time.sleep(1)\n",
    "            raise\n",
    "        \n",
    "    def run(self, angle, throttle):\n",
    "        self.v.set_servo((angle * self.steering_scale) + self.steering_offset)\n",
    "        self.v.set_duty_cycle(throttle*self.percent)"
   ]
  },
  {
   "cell_type": "code",
   "execution_count": 2,
   "id": "2388b206",
   "metadata": {},
   "outputs": [],
   "source": [
    "v=VESC(\"/dev/tty.usbmodem3041\")"
   ]
  },
  {
   "cell_type": "code",
   "execution_count": 4,
   "id": "fca45bdf",
   "metadata": {},
   "outputs": [],
   "source": [
    "v.run(0,0)"
   ]
  }
 ],
 "metadata": {
  "kernelspec": {
   "display_name": "Python 3 (ipykernel)",
   "language": "python",
   "name": "python3"
  },
  "language_info": {
   "codemirror_mode": {
    "name": "ipython",
    "version": 3
   },
   "file_extension": ".py",
   "mimetype": "text/x-python",
   "name": "python",
   "nbconvert_exporter": "python",
   "pygments_lexer": "ipython3",
   "version": "3.10.4"
  }
 },
 "nbformat": 4,
 "nbformat_minor": 5
}
